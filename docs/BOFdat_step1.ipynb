{
 "cells": [
  {
   "cell_type": "markdown",
   "metadata": {},
   "source": [
    "# BOFdat step 1\n",
    "\n",
    "## Generate stoichiometric coefficients for the major macromolecules of the cell and calculate maintenance cost"
   ]
  },
  {
   "cell_type": "code",
   "execution_count": 1,
   "metadata": {},
   "outputs": [
    {
     "name": "stderr",
     "output_type": "stream",
     "text": [
      "/home/jean-christophe/.local/lib/python2.7/site-packages/pip/_vendor/requests/__init__.py:83: RequestsDependencyWarning: Old version of cryptography ([1, 2, 3]) may cause slowdown.\n",
      "  warnings.warn(warning, RequestsDependencyWarning)\n"
     ]
    }
   ],
   "source": [
    "from BOFdat import step1\n",
    "from BOFdat.util import update\n",
    "import pandas as pd\n",
    "import cobra"
   ]
  },
  {
   "cell_type": "markdown",
   "metadata": {},
   "source": [
    "## Example using the *E.coli* genome-scale model *i*ML1515\n",
    "\n",
    "The weight percentage and abundance of each molecule in the cell may vary from an organism to another and vary between growth conditions for a given organism [1,2]. BOFdat allows to incorporate macromolecular cell composition obtained from literature or new experiments to generate new stoichiometric coefficients for your model's biomass objective function (BOF). Once weight percentages are obtained, OMIC data can be incorporated to buff the coefficients and fit to experimental reality. \n",
    "\n",
    "### Steps\n",
    "\n",
    "The following example will lead you through all the necessary steps for the generation of the BOF stoichiometric coefficients (BOFsc) for *E.coli* K12 MG1655 GEM *i*ML1515 [3]. \n",
    "\n",
    "1. Obtain the macromolecular composition of the organism\n",
    "\n",
    "2. Obtain OMICs experimental data\n",
    "\n",
    "3. Generate BOFsc\n",
    "\n",
    "4. Generate NGAM and GAM\n",
    "\n",
    "5. Update BOF (BOFdat!)\n",
    "\n",
    "\n",
    "### Sources\n",
    "\n",
    "[1]  Dennis P. Patrick and Bremmer Hans. (1974) Macromolecular composition during steady-state growth of *Escherichia coli* B/r. Journal of bacteriology\n",
    "\n",
    "\n",
    "[2] Benjamin Volkmer and Matthias Heinemann. (2011) Condition-Dependent Cell Volume and Concentration of Escherichia coli to Facilitate Data Conversion for Systems Biology Modeling. PLoS One\n",
    "\n",
    "\n",
    "[3] Jonathan M Monk, Colton J Lloyd, Elizabeth Brunk, Nathan Mih, Anand Sastry, Zachary King, Rikiya Takeuchi, Wataru Nomura, Zhen Zhang, Hirotada Mori, Adam M Feist and Bernhard O Palsson. (2017) *i*ML1515, a knowledgebase that computes Escherichia coli traits. Nat. Biotech."
   ]
  },
  {
   "cell_type": "markdown",
   "metadata": {},
   "source": [
    "## Obtain the macromolecular compositon of the organism\n",
    "\n",
    "*E.coli* has been characterized thoroughly in literature. The BOFsc used in *i*AF1260 [4] are the same in *i*ML1515 [3] and were obtained from Neidhart *et. al* [5].\n",
    "\n",
    "**Note:** The package also provides the option to include the percentage of each type of RNA molecule in the cell (ribosomal, transfer and messenger). The default values are rRNA: 0.9, tRNA 0.05 and mRNA: 0.05.\n",
    "\n",
    "### Sources\n",
    "\n",
    "[4] Adam M Feist, Christopher S Henry, Jennifer L Reed, Markus Krummenacker, Andrew R Joyce, Peter D Karp, Linda J Broadbelt, Vassily Hatzimanikatis and Bernhard Ø Palsson. (2007) A genome-scale metabolic reconstruction for Escherichia coli K-12 MG1655 that accounts for 1260 ORFs and thermodynamic information. Mol. Syst. Bio. \n",
    "\n",
    "[5] Neidhardt FC, Ingraham JL, Schaechter M (1990) Physiology of the Bacterial Cell: a Molecular Approach. Sinauer Associates: Sunderland, Mass"
   ]
  },
  {
   "cell_type": "code",
   "execution_count": 2,
   "metadata": {
    "collapsed": true
   },
   "outputs": [],
   "source": [
    "#Set parameters based on dry weight composition\n",
    "dna_weight_fraction = 0.031\n",
    "rna_weight_fraction = 0.205\n",
    "protein_weight_fraction = 0.55\n",
    "lipid_weight_fraction = 0.1\n",
    "metabolite_weight_fraction = 0.1"
   ]
  },
  {
   "cell_type": "markdown",
   "metadata": {},
   "source": [
    "## Inputs\n",
    "\n",
    "### DNA\n",
    "    \n",
    "    - Genome sequence (FASTA DNA)\n",
    "    - DNA macromolecular weight fraction \n",
    "    - Model (JSON or SBML)\n",
    "    \n",
    "    \n",
    "### RNA \n",
    "\n",
    "    - Genome annotation (GenBank)\n",
    "    - Transcriptomic data (2 column CSV)\n",
    "    - RNA macromolecular weight fraction \n",
    "    - Model (JSON or SBML)\n",
    "    \n",
    "    \n",
    "### Proteins\n",
    "\n",
    "    - Genome annotation (GenBank)\n",
    "    - Proteomic data (2 column CSV)\n",
    "    - Protein macromolecular weight fraction\n",
    "    - Model (JSON or SBML)\n",
    "    \n",
    "    \n",
    "### Lipids\n",
    "\n",
    "    - Lipidomic abundances (2 column CSV)\n",
    "    - Lipidomic conversion to model identifiers (2 column CSV)\n",
    "    - Lipid macromolecular weight fraction\n",
    "    - Model (JSON or SBML)\n",
    "    \n",
    "\n",
    "### Maintenance costs\n",
    "\n",
    "    - Growth and uptake rates on different conditions (CSV)"
   ]
  },
  {
   "cell_type": "code",
   "execution_count": 3,
   "metadata": {
    "collapsed": true
   },
   "outputs": [],
   "source": [
    "#Give the path to each file as function parameters\n",
    "#Genome file in BioPython supported format (.faa, .fna) and GenBank file \n",
    "#also in BioPython supported format (.gb, .gbff)\n",
    "genome = 'data/Ecoli_DNA.fna'\n",
    "genbank = 'data/Ecoli_K12_MG1655.gbff'\n",
    "\n",
    "#Omic datasets as a 2 column csv file, gene and abundance\n",
    "transcriptomic = 'data/transcriptomic.csv'\n",
    "proteomic = 'data/proteomic.csv'\n",
    "\n",
    "#Lipidomic abundances and conversion to model identifier\n",
    "lipidomic_abundances = 'data/lipidomic_abundances.csv'\n",
    "lipidomic_conversion = 'data/lipidomic_conversion.csv'\n",
    "\n",
    "\n",
    "#Growth data on different carbon sources, uptake and secretion rates\n",
    "maintenance = 'data/maintenance.csv'\n",
    "\n",
    "#The model for which the coefficients are generated\n",
    "model = 'data/iML1515.json'"
   ]
  },
  {
   "cell_type": "markdown",
   "metadata": {},
   "source": [
    "## Obtain OMICs experimental data\n",
    "\n",
    "Your genome should have a GenBank annotated file. This file should be provided in a BioPython supported format (.gb, .gbff). \n",
    "\n",
    "Search in literature allowed to find multiple OMICs dataset for different macromolecules that can be used to generate stoichiometric coefficients [6,7,8]. The data should be converted into a 2 column csv file. \n",
    "The genome file should be provided in a standard BioPython supported format (.faa or .fna) and is used to calculate the abundance of each base in the genome.\n",
    "\n",
    "Transcriptomic and proteomic files are 2 column csv files where the first column is the **gene identifier ** and the second column is the relative abundance of each of these genes in the cell. \n",
    "\n",
    "Unlike DNA, RNA and proteins that are standard amongst every known life form, the lipid and metabolites in different organisms may vary. Hence a conversion file is required. This first column of this file is the original name of the compound and the second is the target identifier that this compound should have in your model. The first column of the abundance file gives the compound identifier in the model and the second column gives the abundance of that compound in the OMIC dataset.\n",
    "\n",
    "### Sources\n",
    "\n",
    "[6] Sang Woo Seo, Donghyuk Kim, Haythem Latif, Edward J. O’Brien, Richard Szubin & Bernhard O. Palsson. (2014) Deciphering Fur transcriptional regulatory network highlights its complex role beyond iron metabolism in Escherichia coli. Nat. Comm. \n",
    "\n",
    "\n",
    "[7] Alexander Schmidt, Karl Kochanowski, Silke Vedelaar, Erik Ahrné, Benjamin Volkmer, Luciano Callipo, Kèvin Knoops, Manuel Bauer, Ruedi Aebersold and Matthias Heinemann. (2016) The quantitative and condition-dependent *Escherichia coli* proteome. Nat. Biotech. \n",
    "\n",
    "\n",
    "[8] Kian-Kai Cheng, Baek-Seok Lee, Takeshi Masuda, Takuro Ito, Kazutaka Ikeda, Akiyoshi Hirayama, Lingli Deng, Jiyang Dong, Kazuyuki Shimizu, Tomoyoshi Soga, Masaru Tomita, Bernhard O. Palsson and Martin Robert. (2014) Global metabolic network reorganization by adaptive mutations allows fast growth of Escherichia coli on glycerol. Nat Comm."
   ]
  },
  {
   "cell_type": "markdown",
   "metadata": {},
   "source": [
    "## Generate BOFsc for macromolecules and generate maintenance costs\n",
    "\n",
    "BOFdat operates with a single get_coefficient function for each macromolecule used. Input the parameters determined above as function parameters. Each function outputs a dictionary of metabolite and stoichiometric coefficients. The dictionary can be used to update the BOF (Step 5)."
   ]
  },
  {
   "cell_type": "code",
   "execution_count": 4,
   "metadata": {},
   "outputs": [
    {
     "data": {
      "text/plain": [
       "{<Metabolite dgtp_c at 0x7fdcbedefa50>: -0.023987227235417734,\n",
       " <Metabolite ppi_c at 0x7fdcbee83f50>: 0.10089506970390794,\n",
       " <Metabolite dttp_c at 0x7fdcbeebacd0>: -0.025157688898857517,\n",
       " <Metabolite dctp_c at 0x7fdcbeedf510>: -0.02731878216895449,\n",
       " <Metabolite datp_c at 0x7fdcbeef0150>: -0.024431371400678196}"
      ]
     },
     "execution_count": 4,
     "metadata": {},
     "output_type": "execute_result"
    }
   ],
   "source": [
    "dna_coefficients = step1.generate_dna_coefficients(genome,model,DNA_WEIGHT_FRACTION=dna_weight_fraction)\n",
    "dna_coefficients"
   ]
  },
  {
   "cell_type": "code",
   "execution_count": 5,
   "metadata": {},
   "outputs": [
    {
     "name": "stderr",
     "output_type": "stream",
     "text": [
      "/home/jean-christophe/.local/lib/python2.7/site-packages/BOFdat-0.1.4-py2.7.egg/BOFdat/core/rna.py:60 \u001b[1;31mUserWarning\u001b[0m: Some identifiers not found in provided annotation\n"
     ]
    },
    {
     "data": {
      "text/plain": [
       "{<Metabolite ctp_c at 0x7fdcbe169350>: -0.1671601704512458,\n",
       " <Metabolite atp_c at 0x7fdcbe17a590>: -0.1556843351415502,\n",
       " <Metabolite ppi_c at 0x7fdcbe209690>: 0.6397066800549615,\n",
       " <Metabolite utp_c at 0x7fdcbe22fb50>: -0.15379576979105725,\n",
       " <Metabolite gtp_c at 0x7fdcbe2bab50>: -0.16306640467110828}"
      ]
     },
     "execution_count": 5,
     "metadata": {},
     "output_type": "execute_result"
    }
   ],
   "source": [
    "rna_coefficients = step1.generate_rna_coefficients(genbank,model,transcriptomic,RNA_WEIGHT_FRACTION=rna_weight_fraction)\n",
    "rna_coefficients"
   ]
  },
  {
   "cell_type": "code",
   "execution_count": 6,
   "metadata": {},
   "outputs": [
    {
     "name": "stderr",
     "output_type": "stream",
     "text": [
      "/home/jean-christophe/.local/lib/python2.7/site-packages/BOFdat-0.1.4-py2.7.egg/BOFdat/core/protein.py:64 \u001b[1;31mUserWarning\u001b[0m: Redundancy in dataset identifiers\n"
     ]
    },
    {
     "data": {
      "text/plain": [
       "{<Metabolite asn__L_c at 0x7fdcb9b53650>: -0.18757538475910354,\n",
       " <Metabolite leu__L_c at 0x7fdcb9b53750>: -0.41251515857770893,\n",
       " <Metabolite h2o_c at 0x7fdcb9e342d0>: 5.444549746608695,\n",
       " <Metabolite gly_c at 0x7fdcb9e34450>: -0.8068327457540323,\n",
       " <Metabolite trp__L_c at 0x7fdcba01a0d0>: -0.02496595423787938,\n",
       " <Metabolite lys__L_c at 0x7fdcba01a150>: -0.2743566703314616,\n",
       " <Metabolite phe__L_c at 0x7fdcba11e950>: -0.12592356497070842,\n",
       " <Metabolite ala__L_c at 0x7fdcba11e9d0>: -0.786686581012288,\n",
       " <Metabolite pro__L_c at 0x7fdcbb788810>: -0.22635269540826172,\n",
       " <Metabolite glu__L_c at 0x7fdcbb8bb610>: -0.3088742159475492,\n",
       " <Metabolite ile__L_c at 0x7fdcbb8bb6d0>: -0.2907964681752002,\n",
       " <Metabolite gln__L_c at 0x7fdcbb8bbc90>: -0.16176662571366865,\n",
       " <Metabolite val__L_c at 0x7fdcbbe35dd0>: -0.44694238390821955,\n",
       " <Metabolite his__L_c at 0x7fdcbc174790>: -0.07909538580101926,\n",
       " <Metabolite ser__L_c at 0x7fdcbd2f40d0>: -0.30382792752346605,\n",
       " <Metabolite arg__L_c at 0x7fdcbd326f50>: -0.18048710436993537,\n",
       " <Metabolite thr__L_c at 0x7fdcbd336510>: -0.30589419712897964,\n",
       " <Metabolite tyr__L_c at 0x7fdcbea4d790>: -0.08853072858049255,\n",
       " <Metabolite cys__L_c at 0x7fdcbea4dad0>: -0.03986681905592248,\n",
       " <Metabolite met__L_c at 0x7fdcbea82d50>: -0.10723969052764214,\n",
       " <Metabolite asp__L_c at 0x7fdcbeb1cdd0>: -0.286019444825156}"
      ]
     },
     "execution_count": 6,
     "metadata": {},
     "output_type": "execute_result"
    }
   ],
   "source": [
    "protein_coefficients = step1.generate_protein_coefficients(genbank,model,proteomic,PROTEIN_WEIGHT_FRACTION=protein_weight_fraction)\n",
    "protein_coefficients"
   ]
  },
  {
   "cell_type": "code",
   "execution_count": 7,
   "metadata": {},
   "outputs": [
    {
     "name": "stderr",
     "output_type": "stream",
     "text": [
      "/home/jean-christophe/.local/lib/python2.7/site-packages/BOFdat-0.1.4-py2.7.egg/BOFdat/core/lipid.py:76 \u001b[1;31mUserWarning\u001b[0m: Redundancy in dataset identifiers\n"
     ]
    },
    {
     "data": {
      "text/plain": [
       "{<Metabolite pg160_p at 0x7fdcb9d161d0>: -0.014826578855136979,\n",
       " <Metabolite pe181_p at 0x7fdcb9d16e10>: -0.013250952451946145,\n",
       " <Metabolite pe161_p at 0x7fdcbb738c10>: -0.030710743257354293,\n",
       " <Metabolite pe160_p at 0x7fdcbb9e8610>: -0.05984233670391253,\n",
       " <Metabolite pg181_p at 0x7fdcbbc02110>: -0.009098089940190764,\n",
       " <Metabolite pg161_p at 0x7fdcbbe41690>: -0.013732749319021109}"
      ]
     },
     "execution_count": 7,
     "metadata": {},
     "output_type": "execute_result"
    }
   ],
   "source": [
    "lipid_coefficients = step1.generate_lipid_coefficients(lipidomic_abundances,lipidomic_conversion,model,LIPID_WEIGHT_FRACTION=lipid_weight_fraction)\n",
    "lipid_coefficients"
   ]
  },
  {
   "cell_type": "markdown",
   "metadata": {},
   "source": [
    "## Generate GAM and NGAM\n",
    "\n",
    "Growth-associated maintenance (GAM) is the ATP cost related to growth. This includes the polymerization cost of each macromolecule. This cost is unaccounted for in the BOF because the model synthesizes the building blocks of each macromolecule in sufficient quantity to reflect the cell composition but not the cost of assembling those building blocks together. The GAM can be calculated experimentally by growing the bacteria on different sources of carbon at different starting concentrations. The carbon source should be the sole source of carbon in the media and its concentration should be measured after a given time. These remaining concentrations along with the excretion products are used by the package to constrain the model and calculate the ATP cost of growth. \n"
   ]
  },
  {
   "cell_type": "code",
   "execution_count": 8,
   "metadata": {},
   "outputs": [
    {
     "name": "stderr",
     "output_type": "stream",
     "text": [
      "cobra/util/solver.py:408 \u001b[1;31mUserWarning\u001b[0m: solver status is 'infeasible'\n"
     ]
    },
    {
     "name": "stdout",
     "output_type": "stream",
     "text": [
      "('m', 89.08201514974289, 'b', 12.643976801582395)\n",
      "('R2=', 0.6714793285124122)\n"
     ]
    },
    {
     "data": {
      "image/png": "[encoded data removed]",
      "text/plain": [
       "<matplotlib.figure.Figure at 0x7fdcb90241d0>"
      ]
     },
     "metadata": {},
     "output_type": "display_data"
    }
   ],
   "source": [
    "maintenance_cost = step1.generate_maintenance_costs(maintenance,model)"
   ]
  },
  {
   "cell_type": "markdown",
   "metadata": {},
   "source": [
    "## Update BOF (BOFdat!)\n",
    "\n",
    "All the dictionaries have been generated. Now it would be fun to start playing with the model. Actually BOFdat allows you to use the generated dictionaries to update and buff your BOF experimental data. Just buff that!"
   ]
  },
  {
   "cell_type": "code",
   "execution_count": 9,
   "metadata": {
    "collapsed": true
   },
   "outputs": [],
   "source": [
    "json_model = cobra.io.load_json_model(model)\n",
    "bofdat_step1 = update.make_new_BOF(json_model,False,True,dna_coefficients,rna_coefficients,protein_coefficients,\n",
    "                    lipid_coefficients,maintenance=maintenance_cost)"
   ]
  },
  {
   "cell_type": "code",
   "execution_count": 10,
   "metadata": {
    "collapsed": true
   },
   "outputs": [],
   "source": [
    "#Save the step1 objective function for use in step2\n",
    "bofdat_step1.to_csv('data/bofdat_step1.csv')"
   ]
  },
  {
   "cell_type": "markdown",
   "metadata": {},
   "source": [
    "**That's it!**\n",
    "\n",
    "The BOFsc for the major macromolecules and the maintenance cost of the cell have been updated in your model using BOFdat. "
   ]
  }
 ],
 "metadata": {
  "kernelspec": {
   "display_name": "Python 2",
   "language": "python",
   "name": "python2"
  },
  "language_info": {
   "codemirror_mode": {
    "name": "ipython",
    "version": 2
   },
   "file_extension": ".py",
   "mimetype": "text/x-python",
   "name": "python",
   "nbconvert_exporter": "python",
   "pygments_lexer": "ipython2",
   "version": "2.7.15rc1"
  }
 },
 "nbformat": 4,
 "nbformat_minor": 2
}
