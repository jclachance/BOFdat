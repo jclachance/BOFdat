{
 "cells": [
  {
   "cell_type": "markdown",
   "metadata": {},
   "source": [
    "# BOFdat step2\n",
    "\n",
    "## Finding coenzymes and inorganic ions"
   ]
  },
  {
   "cell_type": "code",
   "execution_count": 1,
   "metadata": {},
   "outputs": [],
   "source": [
    "from BOFdat import step1\n",
    "from BOFdat import step2\n",
    "from BOFdat.util import update\n",
    "import cobra\n",
    "import pandas as pd"
   ]
  },
  {
   "cell_type": "markdown",
   "metadata": {},
   "source": [
    "## Example using the *E.coli* genome-scale model *i*ML1515 and the biomass objective function generate in BOFdat step1\n",
    "\n",
    "Coenzymes and inorganic ions double with the cell and should therefore be included in the biomass objective function. Finding what metabolites to add to the BOF can be a daunting task. BOFdat step2 aims to reduce this burden.\n",
    "\n",
    "### Steps\n",
    "\n",
    "1. Find coenzymes and inorganic ions\n",
    "\n",
    "2. Update biomass"
   ]
  },
  {
   "cell_type": "markdown",
   "metadata": {},
   "source": [
    "### Find coenzymes and inorganic ions\n",
    "\n",
    "The coenzymes are metabolites that are re-newed after use. The transformed co-enzyme is converted back to the original through another reaction. This definition informs about the promiscous nature of coenzymes: they are used in many reactions. Using this particularity, BOFdat finds the coenzymes in the metabolic network by identifying the number of reactions in which the each metabolite participates and selecting the most promiscous. Metabolites excluded *a priori* include those that were added in BOFdat step1 (ATP, ADP, Pi,PPi, H+, H2O).\n",
    "\n",
    "### Find inorganic ions\n",
    "\n",
    "Few experimental approaches can determine the inorganic ion composition of a cell. Hence, BOFdat defaults to a biased approach based on current knowledge to define the ionic composition of the cell. *Xavier et. al.*(2017) have studied the biomass composition of 72 published models available in the BiGG database at the time of publication. Their list of universal components is a valuable resource for the modelling community. BOFdat uses the list of inorganic ions identified in this study and compares them with the list of metabolites of the submitted reconstruction.\n",
    "\n",
    "\n",
    "These two categories are combined into one function call in BOFdat:"
   ]
  },
  {
   "cell_type": "code",
   "execution_count": 2,
   "metadata": {},
   "outputs": [],
   "source": [
    "path_to_model = 'data/iML1515.json'"
   ]
  },
  {
   "cell_type": "code",
   "execution_count": 3,
   "metadata": {},
   "outputs": [
    {
     "name": "stdout",
     "output_type": "stream",
     "text": [
      "Generating list of solvable metabolites\n"
     ]
    }
   ],
   "source": [
    "selected_metabolites = step2.find_coenzymes_and_ions(path_to_model)"
   ]
  },
  {
   "cell_type": "markdown",
   "metadata": {},
   "source": [
    "### Determine coefficients"
   ]
  },
  {
   "cell_type": "code",
   "execution_count": 4,
   "metadata": {},
   "outputs": [
    {
     "name": "stdout",
     "output_type": "stream",
     "text": [
      "[u'nad_c', u'nadh_c', u'nadp_c', u'nadph_c', u'coa_c', u'amp_c', u'pyr_c', u'nh4_c', u'glu__L_c', u'glyc3p_c', u'accoa_c', u'h_c', u'mn2_c', u'ni2_c', u'mg2_c', u'nh4_c', u'zn2_c', u'k_c', u'cobalt2_c', u'fe2_c', u'fe3_c', u'cu2_c', u'ca2_c', u'cl_c', u'mobd_c', u'so4_c', u'na1_c']\n"
     ]
    }
   ],
   "source": [
    "from BOFdat.util.update import determine_coefficients\n",
    "WEIGHT_FRACTION = 0.05\n",
    "model = cobra.io.load_json_model(path_to_model)\n",
    "bd_step2 = determine_coefficients(selected_metabolites,model,WEIGHT_FRACTION)"
   ]
  },
  {
   "cell_type": "markdown",
   "metadata": {},
   "source": [
    "### Update biomass\n",
    "\n",
    "All the dictionaries have been generated. Now it would be fun to start playing with the model. Actually BOFdat allows you to use the generated dictionaries to update and buff your BOF experimental data. Just buff that!"
   ]
  },
  {
   "cell_type": "code",
   "execution_count": 5,
   "metadata": {},
   "outputs": [
    {
     "name": "stderr",
     "output_type": "stream",
     "text": [
      "/home/jean-christophe/.local/lib/python2.7/site-packages/BOFdat-0.1.7-py2.7.egg/BOFdat/util/update.py:22 \u001b[1;31mUserWarning\u001b[0m: File has 3 columns, assuming index on first column\n"
     ]
    }
   ],
   "source": [
    "#Get the input from the previous step\n",
    "path_to_biomass = 'data/bofdat_step1.csv'\n",
    "bd_step1 = update.convert_to_dictionary(path_to_biomass)\n",
    "bd_step2.update(bd_step1)\n",
    "update.save_biomass(bd_step2,'data/bofdat_step2.csv')"
   ]
  }
 ],
 "metadata": {
  "kernelspec": {
   "display_name": "Python 2",
   "language": "python",
   "name": "python2"
  },
  "language_info": {
   "codemirror_mode": {
    "name": "ipython",
    "version": 2
   },
   "file_extension": ".py",
   "mimetype": "text/x-python",
   "name": "python",
   "nbconvert_exporter": "python",
   "pygments_lexer": "ipython2",
   "version": "2.7.12"
  }
 },
 "nbformat": 4,
 "nbformat_minor": 2
}
